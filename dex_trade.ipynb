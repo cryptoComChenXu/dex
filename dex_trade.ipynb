{
 "cells": [
  {
   "cell_type": "code",
   "execution_count": 292,
   "metadata": {},
   "outputs": [],
   "source": [
    "import os, sys\n",
    "import numpy as np\n",
    "import pandas as pd\n",
    "from pathlib import Path\n",
    "from datetime import datetime, timedelta\n",
    "from typing import List, Dict\n",
    "from functools import partial"
   ]
  },
  {
   "cell_type": "code",
   "execution_count": 293,
   "metadata": {},
   "outputs": [
    {
     "data": {
      "text/plain": [
       "True"
      ]
     },
     "execution_count": 293,
     "metadata": {},
     "output_type": "execute_result"
    }
   ],
   "source": [
    "import dolphindb as ddb \n",
    "s = ddb.session()\n",
    "s.connect(\"172.16.99.183\", 38961, \"\", \"\")"
   ]
  },
  {
   "cell_type": "code",
   "execution_count": 294,
   "metadata": {},
   "outputs": [],
   "source": [
    "\n",
    "q1 = 'trade_table = loadTable(\"dfs://tick_trade\", \"trades\")'\n",
    "q2 = 'depth_table = loadTable(\"dfs://tick_depth\", \"depths\")'\n",
    "s.run(q1)\n",
    "s.run(q2)"
   ]
  },
  {
   "cell_type": "code",
   "execution_count": 295,
   "metadata": {},
   "outputs": [],
   "source": [
    "start_date, end_date = \"2022-05-15\", \"2022-05-25\""
   ]
  },
  {
   "cell_type": "code",
   "execution_count": 296,
   "metadata": {},
   "outputs": [],
   "source": [
    "delay = 15"
   ]
  },
  {
   "cell_type": "code",
   "execution_count": 297,
   "metadata": {},
   "outputs": [],
   "source": [
    "symbols = {\n",
    "    \"ETHUSDC.UNS\": [\"ETHUSDT.CUP\"]\n",
    "}"
   ]
  },
  {
   "cell_type": "code",
   "execution_count": 298,
   "metadata": {},
   "outputs": [],
   "source": [
    "gas_fees = {\n",
    "    \"UNS\": 30,\n",
    "}"
   ]
  },
  {
   "cell_type": "code",
   "execution_count": 299,
   "metadata": {},
   "outputs": [],
   "source": [
    "starts, ends = [], []\n",
    "start = datetime.strptime(f\"{start_date} 00:00:00\", \"%Y-%m-%d %H:%M:%S\")\n",
    "end = datetime.strptime(f\"{end_date} 00:00:00\", \"%Y-%m-%d %H:%M:%S\")\n",
    "while start < end:\n",
    "    starts.append(start.strftime(\"%Y.%m.%dT%H:%M:%S\"))\n",
    "    start += timedelta(days=1)\n",
    "    ends.append(start.strftime(\"%Y.%m.%dT%H:%M:%S\"))"
   ]
  },
  {
   "cell_type": "code",
   "execution_count": 300,
   "metadata": {},
   "outputs": [],
   "source": [
    "def get_data_date(sym: str, hedge: str, side: str, delay: int, start: str, end: str, n_levels: int = 20) -> pd.DataFrame:\n",
    "    t1  = \"t1 = select timestamp, sum(volume) as volume, wavg(price, volume) as vwap from trade_table\"\n",
    "    t1 += \" where timestamp>={}, timestamp<{}, symbol='{}', side={} group by timestamp order by timestamp\".format(\n",
    "        start, end, sym, side)\n",
    "\n",
    "    price_type = 'a' if side == '1' else 'b'\n",
    "    volume_type = price_type + 'v'\n",
    "\n",
    "    t2  = \"t2 = select timestamp, \" + price_type + f\", {price_type}\".join(map(str, list(range(1, n_levels + 1))))\n",
    "    t2 += ', '\n",
    "    t2 += volume_type + f\", {volume_type}\".join(map(str, list(range(1, n_levels + 1))))\n",
    "    t2 += \" from depth_table where timestamp>={}, timestamp<{}, symbol='{}', {}1>0 order by timestamp\".format(\n",
    "        start, end, hedge, price_type)\n",
    "\n",
    "    t3  = \"select * from wj(t1, t2, {}s:{}s, <[\".format(delay, delay + 1)\n",
    "    for level in range(1, n_levels + 1):\n",
    "        t3 += f\"first({price_type}{level}) as {price_type}{level}, first({volume_type}{level}) as {volume_type}{level}, \"\n",
    "\n",
    "    t3  = t3[:-2] + \"]>, `timestamp)\"\n",
    "\n",
    "    s.run(t1)\n",
    "    s.run(t2)\n",
    "    df = s.run(t3)\n",
    "\n",
    "    return df\n",
    "\n",
    "\n",
    "def get_data(sym: str, hedge: str, side: str, delay: int, starts: List, ends: List) -> pd.DataFrame:\n",
    "    n = len(starts)\n",
    "    if not n > 0: return pd.DataFrame()\n",
    "\n",
    "    res = []\n",
    "    for i in range(n):\n",
    "        print(f\"Loading data {sym} from {starts[i]}\")\n",
    "        df_tmp = get_data_date(sym, hedge, side, delay, starts[i], ends[i])\n",
    "        if not df_tmp.empty:\n",
    "            res.append(df_tmp)\n",
    "\n",
    "    if len(res) > 0:\n",
    "        return pd.concat(res)\n",
    "\n",
    "    return pd.DataFrame()"
   ]
  },
  {
   "cell_type": "code",
   "execution_count": 301,
   "metadata": {},
   "outputs": [],
   "source": [
    "def buy_match(fee, n_levels, x):\n",
    "    res, pnl = 0, 0\n",
    "    tot = x[\"volume\"]\n",
    "    for i in range(1, n_levels + 1):\n",
    "        if x[\"vwap\"] < x[f\"a{i}\"] or tot < 0:\n",
    "            break\n",
    "\n",
    "        res += x[f\"av{i}\"] * x[f\"a{i}\"]\n",
    "        pnl += x[f\"av{i}\"] * (x[\"vwap\"] - x[f\"a{i}\"])\n",
    "        tot -= x[f\"av{i}\"]\n",
    "\n",
    "    if pnl < fee:\n",
    "        return 0, 0\n",
    "\n",
    "    pnl -= fee \n",
    "\n",
    "    return res, pnl\n",
    "\n",
    "def sell_match(fee, n_levels, x):\n",
    "    res, pnl = 0, 0\n",
    "    tot = x[\"volume\"]\n",
    "    for i in range(1, n_levels + 1):\n",
    "        if x[\"vwap\"] > x[f\"b{i}\"] or tot < 0:\n",
    "            break\n",
    "\n",
    "        res += x[f\"bv{i}\"] * x[f\"b{i}\"]\n",
    "        pnl += x[f\"bv{i}\"] * (x[f\"b{i}\"] - x[\"vwap\"])\n",
    "        tot -= x[f\"bv{i}\"]\n",
    "\n",
    "    if pnl < fee:\n",
    "        return 0, 0\n",
    "\n",
    "    pnl -= fee\n",
    "\n",
    "    return res, pnl\n"
   ]
  },
  {
   "cell_type": "code",
   "execution_count": 302,
   "metadata": {},
   "outputs": [
    {
     "name": "stdout",
     "output_type": "stream",
     "text": [
      "delay: 15, symbol: ETHUSDC.UNS\n",
      "Loading data ETHUSDC.UNS from 2022.05.15T00:00:00\n",
      "Loading data ETHUSDC.UNS from 2022.05.16T00:00:00\n"
     ]
    }
   ],
   "source": [
    "results = []\n",
    "for delay in [15, 20]:\n",
    "    for sym, hedges in symbols.items():\n",
    "        _, exch = sym.split('.')\n",
    "        gas = gas_fees[exch]\n",
    "        print(f\"delay: {delay}, symbol: {sym}\")\n",
    "        for hedge in hedges:\n",
    "            df_L = get_data(sym, hedge, '1', delay, starts, ends)\n",
    "            df_S = get_data(sym, hedge, '-1', delay, starts, ends)\n",
    "\n",
    "            buy_func = partial(buy_match, gas, 20)\n",
    "            sell_func = partial(sell_match, gas, 20)\n",
    "\n",
    "            buys = df_L.apply(buy_func, axis=1)\n",
    "            sells = df_S.apply(sell_func, axis=1)\n",
    "\n",
    "            df_L[\"potential_match\"] = buys.str[0]\n",
    "            df_L[\"potential_pnl\"] = buys.str[1]\n",
    "            df_S[\"potential_match\"] = sells.str[0]\n",
    "            df_S[\"potential_pnl\"] = sells.str[1]\n",
    "\n",
    "            df_L[\"timestamp\"] = pd.to_datetime(df_L[\"timestamp\"])\n",
    "            df_S[\"timestamp\"] = pd.to_datetime(df_S[\"timestamp\"])\n",
    "\n",
    "            df_L.set_index(\"timestamp\", inplace=True)\n",
    "            df_S.set_index(\"timestamp\", inplace=True)\n",
    "\n",
    "            df = pd.DataFrame({\n",
    "                \"LongMatch\": df_L[\"potential_match\"].resample(\"1D\").sum(),\n",
    "                \"LongPnL\": df_L[\"potential_pnl\"].resample(\"1D\").sum(),\n",
    "                \"ShortMatch\": df_S[\"potential_match\"].resample(\"1D\").sum(),\n",
    "                \"ShortPnL\": df_S[\"potential_pnl\"].resample(\"1D\").sum(),\n",
    "            })\n",
    "\n",
    "            df[\"symbol\"] = sym\n",
    "            df[\"hedge\"] = hedge\n",
    "            df[\"delay\"] = delay\n",
    "\n",
    "            results.append(df)\n",
    "\n",
    "df = pd.concat(results)"
   ]
  },
  {
   "cell_type": "code",
   "execution_count": null,
   "metadata": {},
   "outputs": [
    {
     "data": {
      "text/html": [
       "<div>\n",
       "<style scoped>\n",
       "    .dataframe tbody tr th:only-of-type {\n",
       "        vertical-align: middle;\n",
       "    }\n",
       "\n",
       "    .dataframe tbody tr th {\n",
       "        vertical-align: top;\n",
       "    }\n",
       "\n",
       "    .dataframe thead th {\n",
       "        text-align: right;\n",
       "    }\n",
       "</style>\n",
       "<table border=\"1\" class=\"dataframe\">\n",
       "  <thead>\n",
       "    <tr style=\"text-align: right;\">\n",
       "      <th></th>\n",
       "      <th>LongMatch</th>\n",
       "      <th>LongPnL</th>\n",
       "      <th>ShortMatch</th>\n",
       "      <th>ShortPnL</th>\n",
       "      <th>symbol</th>\n",
       "      <th>hedge</th>\n",
       "      <th>delay</th>\n",
       "    </tr>\n",
       "    <tr>\n",
       "      <th>timestamp</th>\n",
       "      <th></th>\n",
       "      <th></th>\n",
       "      <th></th>\n",
       "      <th></th>\n",
       "      <th></th>\n",
       "      <th></th>\n",
       "      <th></th>\n",
       "    </tr>\n",
       "  </thead>\n",
       "  <tbody>\n",
       "    <tr>\n",
       "      <th>2022-05-15</th>\n",
       "      <td>5.077859e+06</td>\n",
       "      <td>5029.764241</td>\n",
       "      <td>1.632655e+08</td>\n",
       "      <td>155685.233157</td>\n",
       "      <td>ETHUSDC.UNS</td>\n",
       "      <td>ETHUSDT.CUP</td>\n",
       "      <td>15</td>\n",
       "    </tr>\n",
       "    <tr>\n",
       "      <th>2022-05-16</th>\n",
       "      <td>6.631358e+06</td>\n",
       "      <td>9674.467157</td>\n",
       "      <td>1.876869e+08</td>\n",
       "      <td>211654.576032</td>\n",
       "      <td>ETHUSDC.UNS</td>\n",
       "      <td>ETHUSDT.CUP</td>\n",
       "      <td>15</td>\n",
       "    </tr>\n",
       "    <tr>\n",
       "      <th>2022-05-17</th>\n",
       "      <td>3.285923e+06</td>\n",
       "      <td>4906.929510</td>\n",
       "      <td>1.379030e+08</td>\n",
       "      <td>133189.027330</td>\n",
       "      <td>ETHUSDC.UNS</td>\n",
       "      <td>ETHUSDT.CUP</td>\n",
       "      <td>15</td>\n",
       "    </tr>\n",
       "    <tr>\n",
       "      <th>2022-05-18</th>\n",
       "      <td>0.000000e+00</td>\n",
       "      <td>0.000000</td>\n",
       "      <td>0.000000e+00</td>\n",
       "      <td>0.000000</td>\n",
       "      <td>ETHUSDC.UNS</td>\n",
       "      <td>ETHUSDT.CUP</td>\n",
       "      <td>15</td>\n",
       "    </tr>\n",
       "    <tr>\n",
       "      <th>2022-05-19</th>\n",
       "      <td>6.220541e+06</td>\n",
       "      <td>19669.606384</td>\n",
       "      <td>1.716101e+08</td>\n",
       "      <td>171254.741971</td>\n",
       "      <td>ETHUSDC.UNS</td>\n",
       "      <td>ETHUSDT.CUP</td>\n",
       "      <td>15</td>\n",
       "    </tr>\n",
       "    <tr>\n",
       "      <th>2022-05-20</th>\n",
       "      <td>5.168818e+06</td>\n",
       "      <td>5636.098412</td>\n",
       "      <td>1.529105e+08</td>\n",
       "      <td>143012.270026</td>\n",
       "      <td>ETHUSDC.UNS</td>\n",
       "      <td>ETHUSDT.CUP</td>\n",
       "      <td>15</td>\n",
       "    </tr>\n",
       "    <tr>\n",
       "      <th>2022-05-21</th>\n",
       "      <td>5.247573e+05</td>\n",
       "      <td>1123.854844</td>\n",
       "      <td>7.882526e+07</td>\n",
       "      <td>62345.582506</td>\n",
       "      <td>ETHUSDC.UNS</td>\n",
       "      <td>ETHUSDT.CUP</td>\n",
       "      <td>15</td>\n",
       "    </tr>\n",
       "    <tr>\n",
       "      <th>2022-05-22</th>\n",
       "      <td>1.203048e+06</td>\n",
       "      <td>1504.573812</td>\n",
       "      <td>8.915242e+07</td>\n",
       "      <td>81702.972868</td>\n",
       "      <td>ETHUSDC.UNS</td>\n",
       "      <td>ETHUSDT.CUP</td>\n",
       "      <td>15</td>\n",
       "    </tr>\n",
       "  </tbody>\n",
       "</table>\n",
       "</div>"
      ],
      "text/plain": [
       "               LongMatch       LongPnL    ShortMatch       ShortPnL  \\\n",
       "timestamp                                                             \n",
       "2022-05-15  5.077859e+06   5029.764241  1.632655e+08  155685.233157   \n",
       "2022-05-16  6.631358e+06   9674.467157  1.876869e+08  211654.576032   \n",
       "2022-05-17  3.285923e+06   4906.929510  1.379030e+08  133189.027330   \n",
       "2022-05-18  0.000000e+00      0.000000  0.000000e+00       0.000000   \n",
       "2022-05-19  6.220541e+06  19669.606384  1.716101e+08  171254.741971   \n",
       "2022-05-20  5.168818e+06   5636.098412  1.529105e+08  143012.270026   \n",
       "2022-05-21  5.247573e+05   1123.854844  7.882526e+07   62345.582506   \n",
       "2022-05-22  1.203048e+06   1504.573812  8.915242e+07   81702.972868   \n",
       "\n",
       "                 symbol        hedge  delay  \n",
       "timestamp                                    \n",
       "2022-05-15  ETHUSDC.UNS  ETHUSDT.CUP     15  \n",
       "2022-05-16  ETHUSDC.UNS  ETHUSDT.CUP     15  \n",
       "2022-05-17  ETHUSDC.UNS  ETHUSDT.CUP     15  \n",
       "2022-05-18  ETHUSDC.UNS  ETHUSDT.CUP     15  \n",
       "2022-05-19  ETHUSDC.UNS  ETHUSDT.CUP     15  \n",
       "2022-05-20  ETHUSDC.UNS  ETHUSDT.CUP     15  \n",
       "2022-05-21  ETHUSDC.UNS  ETHUSDT.CUP     15  \n",
       "2022-05-22  ETHUSDC.UNS  ETHUSDT.CUP     15  "
      ]
     },
     "execution_count": 291,
     "metadata": {},
     "output_type": "execute_result"
    }
   ],
   "source": [
    "df"
   ]
  },
  {
   "cell_type": "code",
   "execution_count": null,
   "metadata": {},
   "outputs": [],
   "source": [
    "df_L.to_csv(\"sample_L.csv\", index=True)\n"
   ]
  },
  {
   "cell_type": "code",
   "execution_count": null,
   "metadata": {},
   "outputs": [],
   "source": [
    "df.to_csv(\"ETHUSDC.UNS.arb.csv\", index=True)"
   ]
  },
  {
   "cell_type": "code",
   "execution_count": null,
   "metadata": {},
   "outputs": [],
   "source": []
  }
 ],
 "metadata": {
  "interpreter": {
   "hash": "fd90e36688a69f5201ac5cd74ffd3be89a6b54760d235c9620d000c2f84cb4f6"
  },
  "kernelspec": {
   "display_name": "Python 3.8.8 ('base')",
   "language": "python",
   "name": "python3"
  },
  "language_info": {
   "codemirror_mode": {
    "name": "ipython",
    "version": 3
   },
   "file_extension": ".py",
   "mimetype": "text/x-python",
   "name": "python",
   "nbconvert_exporter": "python",
   "pygments_lexer": "ipython3",
   "version": "3.8.8"
  },
  "orig_nbformat": 4
 },
 "nbformat": 4,
 "nbformat_minor": 2
}
